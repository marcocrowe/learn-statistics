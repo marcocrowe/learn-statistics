{
 "cells": [
  {
   "cell_type": "code",
   "execution_count": 4,
   "id": "1b3c3336",
   "metadata": {},
   "outputs": [],
   "source": [
    "from pandas import DataFrame, read_csv\n",
    "from IPython.display import display, Latex\n",
    "from sklearn.linear_model import LinearRegression\n",
    "from data_analytics.github import display_jupyter_notebook_header"
   ]
  },
  {
   "cell_type": "markdown",
   "id": "8b4b29f9",
   "metadata": {},
   "source": [
    "# [Machine Learning - Linear Regression](https://github.com/marcocrowe/learn-machine-learning \"Machine Learning - Linear Regression\")"
   ]
  },
  {
   "cell_type": "code",
   "execution_count": 5,
   "id": "1c289f7c",
   "metadata": {},
   "outputs": [
    {
     "data": {
      "text/html": [
       "<!--\r\n",
       "import data_analytics.github as github\r\n",
       "print(github.create_jupyter_notebook_header(\"marcocrowe\", \"learn-machine-learning\", \"linear-regression.ipynb\", \"master\"))\r\n",
       "-->\r\n",
       "<table style=\"margin: auto;\"><tr><td><a href=\"https://mybinder.org/v2/gh/marcocrowe/learn-machine-learning/master?filepath=linear-regression.ipynb\" target=\"_parent\"><img src=\"https://mybinder.org/badge_logo.svg\" alt=\"Open In Binder\"/></a></td><td>online editors</td><td><a href=\"https://colab.research.google.com/github/marcocrowe/learn-machine-learning/blob/master/linear-regression.ipynb\" target=\"_parent\"><img src=\"https://colab.research.google.com/assets/colab-badge.svg\" alt=\"Open In Colab\"/></a></td></tr></table>"
      ],
      "text/plain": [
       "<IPython.core.display.HTML object>"
      ]
     },
     "metadata": {},
     "output_type": "display_data"
    }
   ],
   "source": [
    "display_jupyter_notebook_header(\n",
    "    \"marcocrowe\", \"learn-machine-learning\", \"linear-regression.ipynb\"\n",
    ")"
   ]
  },
  {
   "cell_type": "markdown",
   "id": "2f1e4d1d",
   "metadata": {},
   "source": [
    "## Sample Question - Weather Entropy"
   ]
  },
  {
   "cell_type": "code",
   "execution_count": 15,
   "id": "b88e096d",
   "metadata": {},
   "outputs": [
    {
     "data": {
      "text/html": [
       "<div>\n",
       "<style scoped>\n",
       "    .dataframe tbody tr th:only-of-type {\n",
       "        vertical-align: middle;\n",
       "    }\n",
       "\n",
       "    .dataframe tbody tr th {\n",
       "        vertical-align: top;\n",
       "    }\n",
       "\n",
       "    .dataframe thead th {\n",
       "        text-align: right;\n",
       "    }\n",
       "</style>\n",
       "<table border=\"1\" class=\"dataframe\">\n",
       "  <thead>\n",
       "    <tr style=\"text-align: right;\">\n",
       "      <th></th>\n",
       "      <th>x</th>\n",
       "      <th>y</th>\n",
       "    </tr>\n",
       "  </thead>\n",
       "  <tbody>\n",
       "    <tr>\n",
       "      <th>0</th>\n",
       "      <td>7</td>\n",
       "      <td>6</td>\n",
       "    </tr>\n",
       "    <tr>\n",
       "      <th>1</th>\n",
       "      <td>19</td>\n",
       "      <td>10</td>\n",
       "    </tr>\n",
       "    <tr>\n",
       "      <th>2</th>\n",
       "      <td>33</td>\n",
       "      <td>14</td>\n",
       "    </tr>\n",
       "    <tr>\n",
       "      <th>3</th>\n",
       "      <td>42</td>\n",
       "      <td>23</td>\n",
       "    </tr>\n",
       "  </tbody>\n",
       "</table>\n",
       "</div>"
      ],
      "text/plain": [
       "    x   y\n",
       "0   7   6\n",
       "1  19  10\n",
       "2  33  14\n",
       "3  42  23"
      ]
     },
     "execution_count": 15,
     "metadata": {},
     "output_type": "execute_result"
    }
   ],
   "source": [
    "filepath = \"question-2-b.csv\"\n",
    "data_frame: DataFrame = read_csv(filepath)\n",
    "x_label = \"x\"\n",
    "y_label = \"y\"\n",
    "data_frame"
   ]
  },
  {
   "cell_type": "markdown",
   "id": "f6535c15",
   "metadata": {},
   "source": [
    "### Using LinearRegression Library"
   ]
  },
  {
   "cell_type": "code",
   "execution_count": 20,
   "id": "391a908d",
   "metadata": {},
   "outputs": [
    {
     "name": "stdout",
     "output_type": "stream",
     "text": [
      "0.45\n"
     ]
    }
   ],
   "source": [
    "features = data_frame[[x_label]]\n",
    "target = data_frame[y_label]\n",
    "\n",
    "linear_regression_model = LinearRegression()\n",
    "_ = linear_regression_model.fit(features, target)\n",
    "\n",
    "m = linear_regression_model.coef_[0]\n",
    "print(f\"{m:.2f}\")"
   ]
  },
  {
   "cell_type": "code",
   "execution_count": 21,
   "id": "7d29c5a2",
   "metadata": {},
   "outputs": [
    {
     "name": "stdout",
     "output_type": "stream",
     "text": [
      "The predicted wedding cost for a wedding with 730 party guests is: $331.39\n"
     ]
    }
   ],
   "source": [
    "guests = 730\n",
    "guests_to_predict_cost_data_frame = DataFrame({x_label: [guests]})\n",
    "predicted_wedding_cost = linear_regression_model.predict(\n",
    "    guests_to_predict_cost_data_frame\n",
    ")\n",
    "\n",
    "print(\n",
    "    f\"The predicted wedding cost for a wedding with {guests} party guests is: ${predicted_wedding_cost[0]:.2f}\"\n",
    ")"
   ]
  },
  {
   "cell_type": "markdown",
   "id": "cfd639ce",
   "metadata": {},
   "source": [
    "### Using Calculations"
   ]
  },
  {
   "cell_type": "code",
   "execution_count": 17,
   "id": "d800f9f6",
   "metadata": {},
   "outputs": [
    {
     "data": {
      "text/html": [
       "<div>\n",
       "<style scoped>\n",
       "    .dataframe tbody tr th:only-of-type {\n",
       "        vertical-align: middle;\n",
       "    }\n",
       "\n",
       "    .dataframe tbody tr th {\n",
       "        vertical-align: top;\n",
       "    }\n",
       "\n",
       "    .dataframe thead th {\n",
       "        text-align: right;\n",
       "    }\n",
       "</style>\n",
       "<table border=\"1\" class=\"dataframe\">\n",
       "  <thead>\n",
       "    <tr style=\"text-align: right;\">\n",
       "      <th></th>\n",
       "      <th>x</th>\n",
       "      <th>y</th>\n",
       "      <th>(x - x̄)</th>\n",
       "      <th>(y - ȳ)</th>\n",
       "      <th>(x - x̄)(y - ȳ)</th>\n",
       "      <th>(x - x̄)²</th>\n",
       "    </tr>\n",
       "  </thead>\n",
       "  <tbody>\n",
       "    <tr>\n",
       "      <th>0</th>\n",
       "      <td>7</td>\n",
       "      <td>6</td>\n",
       "      <td>-18.25</td>\n",
       "      <td>-7.25</td>\n",
       "      <td>132.3125</td>\n",
       "      <td>333.0625</td>\n",
       "    </tr>\n",
       "    <tr>\n",
       "      <th>1</th>\n",
       "      <td>19</td>\n",
       "      <td>10</td>\n",
       "      <td>-6.25</td>\n",
       "      <td>-3.25</td>\n",
       "      <td>20.3125</td>\n",
       "      <td>39.0625</td>\n",
       "    </tr>\n",
       "    <tr>\n",
       "      <th>2</th>\n",
       "      <td>33</td>\n",
       "      <td>14</td>\n",
       "      <td>7.75</td>\n",
       "      <td>0.75</td>\n",
       "      <td>5.8125</td>\n",
       "      <td>60.0625</td>\n",
       "    </tr>\n",
       "    <tr>\n",
       "      <th>3</th>\n",
       "      <td>42</td>\n",
       "      <td>23</td>\n",
       "      <td>16.75</td>\n",
       "      <td>9.75</td>\n",
       "      <td>163.3125</td>\n",
       "      <td>280.5625</td>\n",
       "    </tr>\n",
       "  </tbody>\n",
       "</table>\n",
       "</div>"
      ],
      "text/plain": [
       "    x   y  (x - x̄)  (y - ȳ)  (x - x̄)(y - ȳ)  (x - x̄)²\n",
       "0   7   6    -18.25    -7.25         132.3125   333.0625\n",
       "1  19  10     -6.25    -3.25          20.3125    39.0625\n",
       "2  33  14      7.75     0.75           5.8125    60.0625\n",
       "3  42  23     16.75     9.75         163.3125   280.5625"
      ]
     },
     "execution_count": 17,
     "metadata": {},
     "output_type": "execute_result"
    }
   ],
   "source": [
    "x_mean = data_frame[x_label].mean()\n",
    "y_mean = data_frame[y_label].mean()\n",
    "\n",
    "calculations_data_frame = data_frame.copy()\n",
    "calculations_data_frame[\"(x - x̄)\"] = data_frame[x_label] - x_mean\n",
    "calculations_data_frame[\"(y - ȳ)\"] = data_frame[y_label] - y_mean\n",
    "calculations_data_frame[\"(x - x̄)(y - ȳ)\"] = (\n",
    "    calculations_data_frame[\"(x - x̄)\"] * calculations_data_frame[\"(y - ȳ)\"]\n",
    ")\n",
    "calculations_data_frame[\"(x - x̄)²\"] = calculations_data_frame[\"(x - x̄)\"] ** 2\n",
    "calculations_data_frame"
   ]
  },
  {
   "cell_type": "markdown",
   "id": "55824b21",
   "metadata": {},
   "source": [
    "slope of the regression line is:\n",
    "\n",
    "$b_1 = \\frac{\\sum_{i=1}^{n} (x_i - \\bar{x})(y_i - \\bar{y})}{\\sum_{i=1}^{n} (x_i - \\bar{x})^2}$\n",
    "\n",
    "where:"
   ]
  },
  {
   "cell_type": "code",
   "execution_count": 18,
   "id": "02bae89d",
   "metadata": {},
   "outputs": [
    {
     "name": "stdout",
     "output_type": "stream",
     "text": [
      "0.45\n"
     ]
    }
   ],
   "source": [
    "# slope of the regression line is:\n",
    "dev_prod = calculations_data_frame[\"(x - x̄)(y - ȳ)\"].sum()\n",
    "dev_sq = calculations_data_frame[\"(x - x̄)²\"].sum()\n",
    "\n",
    "b1 = dev_prod / dev_sq\n",
    "print(f\"{b1:.2f}\")"
   ]
  },
  {
   "cell_type": "markdown",
   "id": "b8788b10",
   "metadata": {},
   "source": [
    "The y-intercept $b_0$ in a linear regression model can be calculated using the following formula:\n",
    "\n",
    "$b_0 = y_{\\text{mean}} - b_1 \\cdot x_{\\text{mean}}$\n",
    "\n",
    "Where:\n",
    "\n",
    "- $y_{\\text{mean}}$ is the mean of the target variable (in your case, the mean of the wedding cost).\n",
    "- $x_{\\text{mean}}$ is the mean of the independent variable (in your case, the mean of the number of guests).\n",
    "- $b_1$ is the slope of the regression line, which you calculated earlier.\n",
    "\n",
    "The formula for calculating the y-intercept is derived from the equation of a straight line:\n",
    "\n",
    "$y = b_0 + b_1 \\cdot x$\n",
    "\n",
    "Given a mean value for $x$ and $y$, you can rearrange the formula to solve for $b_0$:\n",
    "\n",
    "$b_0 = y_{\\text{mean}} - b_1 \\cdot x_{\\text{mean}}$\n",
    "\n",
    "You can plug in the calculated slope $b_1$, and the means of $x$ and $y$ to calculate the y-intercept.\n",
    "\n",
    "Let's apply this formula using the values you provided:\n",
    "\n",
    "- $y_{\\text{mean}} = 455.50$ (mean of the wedding cost).\n",
    "- $x_{\\text{mean}} = 723.50$ (mean of the number of guests).\n",
    "- $b_1 = 0.62$ (slope of the regression line).\n"
   ]
  },
  {
   "cell_type": "code",
   "execution_count": 19,
   "id": "7525fdb1",
   "metadata": {},
   "outputs": [
    {
     "name": "stderr",
     "output_type": "stream",
     "text": [
      "<>:2: SyntaxWarning: invalid escape sequence '\\o'\n",
      "<>:2: SyntaxWarning: invalid escape sequence '\\o'\n",
      "C:\\Users\\user\\AppData\\Local\\Temp\\ipykernel_20244\\2879069120.py:2: SyntaxWarning: invalid escape sequence '\\o'\n",
      "  text = \"$b_0 = \\overline{y} - b_1 \\\\times \\overline{x}$\\n\\n\"\n"
     ]
    },
    {
     "data": {
      "text/latex": [
       "$b_0 = \\overline{y} - b_1 \\times \\overline{x}$\n",
       "\n",
       "$b_0 = 13.25 - 0.4514 \\times 25.25$\n",
       "\n",
       "$b_0 =  13.25 - 11.40 = 1.85$"
      ],
      "text/plain": [
       "<IPython.core.display.Latex object>"
      ]
     },
     "metadata": {},
     "output_type": "display_data"
    }
   ],
   "source": [
    "b0 = y_mean - m * x_mean\n",
    "text = \"$b_0 = \\overline{y} - b_1 \\\\times \\overline{x}$\\n\\n\"\n",
    "text += f\"$b_0 = {y_mean:.2f} - {m:.4f} \\\\times {x_mean:.2f}$\\n\\n\"\n",
    "text += f\"$b_0 =  {y_mean:.2f} - {m*x_mean:.2f} = {b0:.2f}$\"\n",
    "display(Latex(text))"
   ]
  },
  {
   "cell_type": "markdown",
   "id": "7007bd68",
   "metadata": {},
   "source": [
    "In the context of a linear regression model, the predicted wedding cost $E(y)$ for a given number of guests $x$ can be calculated using the regression line equation. The equation is:\n",
    "\n",
    "$E(y) = b_0 + b_1 \\cdot x$\n",
    "\n",
    "Where:\n",
    "\n",
    "- $E(y)$ is the predicted wedding cost.\n",
    "- $b_0$ is the y-intercept of the regression line (also called the constant term).\n",
    "- $b_1$ is the slope of the regression line.\n",
    "- $x$ is the given number of guests (the independent variable).\n",
    "\n",
    "Given the number of guests you want to predict the wedding cost for, you can plug in the values of $b_0$, $b_1$, and $x$ into the formula to calculate the predicted wedding cost:\n",
    "\n",
    "$E(y) = b_0 + b_1 \\cdot x$\n",
    "\n",
    "Let's break it down step by step:\n",
    "\n",
    "1. **Identify the number of guests ($x$):**\n",
    "   - This is the independent variable for which you want to predict the wedding cost. For example, if you want to predict the cost for a wedding with 730 guests, then $x = 730$.\n",
    "\n",
    "2. **Calculate the predicted wedding cost ($E(y)$):**\n",
    "   - Use the formula $E(y) = b_0 + b_1 \\cdot x$.\n",
    "   - Plug in the values of $b_0$ and $b_1$ (as calculated earlier) and the given number of guests ($x$).\n"
   ]
  },
  {
   "cell_type": "code",
   "execution_count": 9,
   "id": "2ccd7e78",
   "metadata": {},
   "outputs": [
    {
     "data": {
      "text/latex": [
       "$b_0 = 6.47, b_1 = 0.62, x = 730$\n",
       "\n",
       "$y = b_0 + b_1 \\times x$\n",
       "\n",
       "$y=6.47 + 0.62 \\times 730$\n",
       "\n",
       "$y = 6.47 + 453.07$\n",
       "\n",
       "$y = 459.53$"
      ],
      "text/plain": [
       "<IPython.core.display.Latex object>"
      ]
     },
     "metadata": {},
     "output_type": "display_data"
    },
    {
     "name": "stdout",
     "output_type": "stream",
     "text": [
      "The predicted wedding cost for a wedding with 730 party guests is: $459.53\n"
     ]
    }
   ],
   "source": [
    "y = b0 + b1 * guests\n",
    "\n",
    "text = f\"$b_0 = {b0:.2f}, b_1 = {b1:.2f}, x = {guests}$\\n\\n\"\n",
    "text += \"$y = b_0 + b_1 \\\\times x$\\n\\n\"\n",
    "text += f\"$y={b0:.2f} + {b1:.2f} \\\\times {guests}$\\n\\n\"\n",
    "text += f\"$y = {b0:.2f} + {b1*guests:.2f}$\\n\\n\"\n",
    "text += f\"$y = {y:.2f}$\"\n",
    "\n",
    "display(Latex(text))\n",
    "print(f\"The predicted wedding cost for a wedding with {guests} party guests is: ${y:.2f}\")"
   ]
  },
  {
   "cell_type": "markdown",
   "id": "abc1be5b",
   "metadata": {},
   "source": [
    "---\n",
    "\n",
    "Copyright &copy; 2024 Mark Crowe <https://github.com/marcocrowe>. All rights reserved.\n"
   ]
  }
 ],
 "metadata": {
  "kernelspec": {
   "display_name": "Python 3 (ipykernel)",
   "language": "python",
   "name": "python3"
  },
  "language_info": {
   "codemirror_mode": {
    "name": "ipython",
    "version": 3
   },
   "file_extension": ".py",
   "mimetype": "text/x-python",
   "name": "python",
   "nbconvert_exporter": "python",
   "pygments_lexer": "ipython3",
   "version": "3.12.4"
  }
 },
 "nbformat": 4,
 "nbformat_minor": 5
}
